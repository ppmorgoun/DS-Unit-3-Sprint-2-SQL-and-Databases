{
 "cells": [
  {
   "cell_type": "code",
   "execution_count": 4,
   "metadata": {
    "collapsed": true
   },
   "outputs": [],
   "source": [
    "import sqlite3\n",
    "\n",
    "conn = sqlite3.connect('rpg_db.sqlite3')\n",
    "curs = conn.cursor()"
   ]
  },
  {
   "cell_type": "code",
   "execution_count": 12,
   "outputs": [
    {
     "data": {
      "text/plain": "<sqlite3.Cursor at 0x7feb9c3d29d0>"
     },
     "execution_count": 12,
     "metadata": {},
     "output_type": "execute_result"
    }
   ],
   "source": [
    "query = 'SELECT * from armory_item'\n",
    "curs.execute(query)"
   ],
   "metadata": {
    "collapsed": false,
    "pycharm": {
     "name": "#%%\n"
    }
   }
  },
  {
   "cell_type": "code",
   "execution_count": null,
   "outputs": [],
   "source": [
    "\"\"\"\n",
    "Use sqlite3 to load and write queries to explore the data, and answer the following questions.\n",
    "You should store each query as a string and label each as the indicated variable names.\n",
    "Also, store each of these queries in a seperate file named queries.py and either run these queries in the file\n",
    "or import them into another:\n",
    "\n",
    "TOTAL_CHARACTERS: How many total Characters are there?\n",
    "TOTAL_SUBCLASS: How many of each specific subclass (the necromancer table)?\n",
    "TOTAL_ITEMS: How many total Items?\n",
    "WEAPONS: How many of the Items are weapons?\n",
    "NON_WEAPONS: How many of the items are not weapons?\n",
    "CHARACTER_ITEMS: How many Items does each character have? (Return first 20 rows)\n",
    "CHARACTER_WEAPONS: How many Weapons does each character have? (Return first 20 rows)\n",
    "AVG_CHARACTER_ITEMS: On average, how many Items does each Character have?\n",
    "AVG_CHARACTER_WEAPONS: On average, how many Weapons does each character have?\n",
    "\"\"\""
   ],
   "metadata": {
    "collapsed": false,
    "pycharm": {
     "name": "#%%\n"
    }
   }
  },
  {
   "cell_type": "code",
   "execution_count": 16,
   "outputs": [
    {
     "name": "stdout",
     "output_type": "stream",
     "text": [
      "[(302,)]\n"
     ]
    }
   ],
   "source": [
    "TOTAL_CHARACTERS = 'SELECT COUNT(*) from charactercreator_character'\n",
    "curs.execute(TOTAL_CHARACTERS)\n",
    "print(curs.fetchall())"
   ],
   "metadata": {
    "collapsed": false,
    "pycharm": {
     "name": "#%%\n"
    }
   }
  },
  {
   "cell_type": "code",
   "execution_count": 18,
   "outputs": [
    {
     "name": "stdout",
     "output_type": "stream",
     "text": [
      "[(11,)]\n"
     ]
    }
   ],
   "source": [
    "TOTAL_SUBCLASS = 'SELECT COUNT(*) from charactercreator_necromancer'\n",
    "curs.execute(TOTAL_SUBCLASS)\n",
    "print(curs.fetchall())"
   ],
   "metadata": {
    "collapsed": false,
    "pycharm": {
     "name": "#%%\n"
    }
   }
  },
  {
   "cell_type": "code",
   "execution_count": 19,
   "outputs": [
    {
     "name": "stdout",
     "output_type": "stream",
     "text": [
      "[(174,)]\n"
     ]
    }
   ],
   "source": [
    "TOTAL_ITEMS = 'SELECT COUNT(*) from armory_item'\n",
    "curs.execute(TOTAL_ITEMS)\n",
    "print(curs.fetchall())"
   ],
   "metadata": {
    "collapsed": false,
    "pycharm": {
     "name": "#%%\n"
    }
   }
  },
  {
   "cell_type": "code",
   "execution_count": 33,
   "outputs": [
    {
     "name": "stdout",
     "output_type": "stream",
     "text": [
      "[(37,)]\n"
     ]
    }
   ],
   "source": [
    "WEAPONS = 'SELECT COUNT(*) FROM armory_item, armory_weapon WHERE armory_item.item_id = armory_weapon.item_ptr_id'\n",
    "curs.execute(WEAPONS)\n",
    "print(curs.fetchall())"
   ],
   "metadata": {
    "collapsed": false,
    "pycharm": {
     "name": "#%%\n"
    }
   }
  },
  {
   "cell_type": "code",
   "execution_count": 34,
   "outputs": [
    {
     "name": "stdout",
     "output_type": "stream",
     "text": [
      "[(6401,)]\n"
     ]
    }
   ],
   "source": [
    "NON_WEAPONS = 'SELECT COUNT(*) FROM armory_item, armory_weapon WHERE armory_item.item_id != armory_weapon.item_ptr_id'\n",
    "curs.execute(NON_WEAPONS)\n",
    "print(curs.fetchall())\n"
   ],
   "metadata": {
    "collapsed": false,
    "pycharm": {
     "name": "#%%\n"
    }
   }
  },
  {
   "cell_type": "code",
   "execution_count": 59,
   "outputs": [
    {
     "name": "stdout",
     "output_type": "stream",
     "text": [
      "[(3,), (3,), (2,), (4,), (4,), (1,), (5,), (3,), (4,), (4,), (3,), (3,), (4,), (4,), (4,), (1,), (5,), (5,), (3,), (1,)]\n"
     ]
    }
   ],
   "source": [
    "CHARACTER_ITEMS = 'SELECT COUNT(item_id) FROM charactercreator_character_inventory GROUP BY character_id LIMIT 20'\n",
    "curs.execute(CHARACTER_ITEMS)\n",
    "print(curs.fetchall())"
   ],
   "metadata": {
    "collapsed": false,
    "pycharm": {
     "name": "#%%\n"
    }
   }
  },
  {
   "cell_type": "code",
   "execution_count": 60,
   "outputs": [
    {
     "name": "stdout",
     "output_type": "stream",
     "text": [
      "[(2,), (1,), (1,), (1,), (1,), (1,), (1,), (3,), (2,), (1,), (1,), (1,), (2,), (3,), (2,), (2,), (2,), (1,), (1,), (1,)]\n"
     ]
    }
   ],
   "source": [
    "CHARACTER_WEAPONS = 'SELECT COUNT(item_id) FROM charactercreator_character_inventory, armory_weapon WHERE item_id = armory_weapon.item_ptr_id GROUP BY character_id LIMIT 20'\n",
    "curs.execute(CHARACTER_WEAPONS)\n",
    "print(curs.fetchall())"
   ],
   "metadata": {
    "collapsed": false,
    "pycharm": {
     "name": "#%%\n"
    }
   }
  },
  {
   "cell_type": "code",
   "execution_count": 61,
   "outputs": [
    {
     "name": "stdout",
     "output_type": "stream",
     "text": [
      "[(2.9735099337748343,)]\n"
     ]
    }
   ],
   "source": [
    "AVG_CHARACTER_ITEMS = 'SELECT AVG(count) FROM (SELECT COUNT(item_id) AS count FROM charactercreator_character_inventory GROUP BY character_id)'\n",
    "curs.execute(AVG_CHARACTER_ITEMS)\n",
    "print(curs.fetchall())"
   ],
   "metadata": {
    "collapsed": false,
    "pycharm": {
     "name": "#%%\n"
    }
   }
  },
  {
   "cell_type": "code",
   "execution_count": 62,
   "outputs": [
    {
     "name": "stdout",
     "output_type": "stream",
     "text": [
      "[(1.3096774193548386,)]\n"
     ]
    }
   ],
   "source": [
    "AVG_CHARACTER_WEAPONS = 'SELECT AVG(count) FROM (SELECT COUNT(item_id) as count FROM charactercreator_character_inventory, armory_weapon WHERE item_id = armory_weapon.item_ptr_id GROUP BY character_id)'\n",
    "curs.execute(AVG_CHARACTER_WEAPONS)\n",
    "print(curs.fetchall())"
   ],
   "metadata": {
    "collapsed": false,
    "pycharm": {
     "name": "#%%\n"
    }
   }
  },
  {
   "cell_type": "code",
   "execution_count": null,
   "outputs": [],
   "source": [],
   "metadata": {
    "collapsed": false,
    "pycharm": {
     "name": "#%%\n"
    }
   }
  }
 ],
 "metadata": {
  "kernelspec": {
   "display_name": "Python 3",
   "language": "python",
   "name": "python3"
  },
  "language_info": {
   "codemirror_mode": {
    "name": "ipython",
    "version": 2
   },
   "file_extension": ".py",
   "mimetype": "text/x-python",
   "name": "python",
   "nbconvert_exporter": "python",
   "pygments_lexer": "ipython2",
   "version": "2.7.6"
  }
 },
 "nbformat": 4,
 "nbformat_minor": 0
}