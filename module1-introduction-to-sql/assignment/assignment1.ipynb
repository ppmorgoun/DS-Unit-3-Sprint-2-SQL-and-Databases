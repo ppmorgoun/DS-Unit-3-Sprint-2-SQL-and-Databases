{
 "cells": [
  {
   "cell_type": "code",
   "execution_count": 1,
   "metadata": {
    "collapsed": true
   },
   "outputs": [],
   "source": [
    "import pandas as pd\n",
    "import sqlite3\n",
    "\n",
    "conn = sqlite3.connect('../rpg_db.sqlite3')\n",
    "curs = conn.cursor()"
   ]
  },
  {
   "cell_type": "code",
   "execution_count": 11,
   "outputs": [
    {
     "data": {
      "text/plain": "[('table',\n  'django_migrations',\n  'django_migrations',\n  2,\n  'CREATE TABLE \"django_migrations\" (\"id\" integer NOT NULL PRIMARY KEY AUTOINCREMENT, \"app\" varchar(255) NOT NULL, \"name\" varchar(255) NOT NULL, \"applied\" datetime NOT NULL)'),\n ('table',\n  'sqlite_sequence',\n  'sqlite_sequence',\n  3,\n  'CREATE TABLE sqlite_sequence(name,seq)'),\n ('table',\n  'auth_group',\n  'auth_group',\n  7,\n  'CREATE TABLE \"auth_group\" (\"id\" integer NOT NULL PRIMARY KEY AUTOINCREMENT, \"name\" varchar(80) NOT NULL UNIQUE)'),\n ('index', 'sqlite_autoindex_auth_group_1', 'auth_group', 8, None),\n ('table',\n  'auth_group_permissions',\n  'auth_group_permissions',\n  9,\n  'CREATE TABLE \"auth_group_permissions\" (\"id\" integer NOT NULL PRIMARY KEY AUTOINCREMENT, \"group_id\" integer NOT NULL REFERENCES \"auth_group\" (\"id\") DEFERRABLE INITIALLY DEFERRED, \"permission_id\" integer NOT NULL REFERENCES \"auth_permission\" (\"id\") DEFERRABLE INITIALLY DEFERRED)'),\n ('table',\n  'auth_user_groups',\n  'auth_user_groups',\n  12,\n  'CREATE TABLE \"auth_user_groups\" (\"id\" integer NOT NULL PRIMARY KEY AUTOINCREMENT, \"user_id\" integer NOT NULL REFERENCES \"auth_user\" (\"id\") DEFERRABLE INITIALLY DEFERRED, \"group_id\" integer NOT NULL REFERENCES \"auth_group\" (\"id\") DEFERRABLE INITIALLY DEFERRED)'),\n ('table',\n  'auth_user_user_permissions',\n  'auth_user_user_permissions',\n  13,\n  'CREATE TABLE \"auth_user_user_permissions\" (\"id\" integer NOT NULL PRIMARY KEY AUTOINCREMENT, \"user_id\" integer NOT NULL REFERENCES \"auth_user\" (\"id\") DEFERRABLE INITIALLY DEFERRED, \"permission_id\" integer NOT NULL REFERENCES \"auth_permission\" (\"id\") DEFERRABLE INITIALLY DEFERRED)'),\n ('index',\n  'auth_group_permissions_group_id_permission_id_0cd325b0_uniq',\n  'auth_group_permissions',\n  16,\n  'CREATE UNIQUE INDEX auth_group_permissions_group_id_permission_id_0cd325b0_uniq ON \"auth_group_permissions\" (\"group_id\", \"permission_id\")'),\n ('index',\n  'auth_group_permissions_group_id_b120cbf9',\n  'auth_group_permissions',\n  17,\n  'CREATE INDEX \"auth_group_permissions_group_id_b120cbf9\" ON \"auth_group_permissions\" (\"group_id\")'),\n ('index',\n  'auth_group_permissions_permission_id_84c5c92e',\n  'auth_group_permissions',\n  18,\n  'CREATE INDEX \"auth_group_permissions_permission_id_84c5c92e\" ON \"auth_group_permissions\" (\"permission_id\")'),\n ('index',\n  'auth_user_groups_user_id_group_id_94350c0c_uniq',\n  'auth_user_groups',\n  19,\n  'CREATE UNIQUE INDEX auth_user_groups_user_id_group_id_94350c0c_uniq ON \"auth_user_groups\" (\"user_id\", \"group_id\")'),\n ('index',\n  'auth_user_groups_user_id_6a12ed8b',\n  'auth_user_groups',\n  20,\n  'CREATE INDEX \"auth_user_groups_user_id_6a12ed8b\" ON \"auth_user_groups\" (\"user_id\")'),\n ('index',\n  'auth_user_groups_group_id_97559544',\n  'auth_user_groups',\n  22,\n  'CREATE INDEX \"auth_user_groups_group_id_97559544\" ON \"auth_user_groups\" (\"group_id\")'),\n ('index',\n  'auth_user_user_permissions_user_id_permission_id_14a6b632_uniq',\n  'auth_user_user_permissions',\n  24,\n  'CREATE UNIQUE INDEX auth_user_user_permissions_user_id_permission_id_14a6b632_uniq ON \"auth_user_user_permissions\" (\"user_id\", \"permission_id\")'),\n ('index',\n  'auth_user_user_permissions_user_id_a95ead1b',\n  'auth_user_user_permissions',\n  25,\n  'CREATE INDEX \"auth_user_user_permissions_user_id_a95ead1b\" ON \"auth_user_user_permissions\" (\"user_id\")'),\n ('index',\n  'auth_user_user_permissions_permission_id_1fbb5f2c',\n  'auth_user_user_permissions',\n  26,\n  'CREATE INDEX \"auth_user_user_permissions_permission_id_1fbb5f2c\" ON \"auth_user_user_permissions\" (\"permission_id\")'),\n ('table',\n  'django_admin_log',\n  'django_admin_log',\n  30,\n  'CREATE TABLE \"django_admin_log\" (\"id\" integer NOT NULL PRIMARY KEY AUTOINCREMENT, \"object_id\" text NULL, \"object_repr\" varchar(200) NOT NULL, \"action_flag\" smallint unsigned NOT NULL, \"change_message\" text NOT NULL, \"content_type_id\" integer NULL REFERENCES \"django_content_type\" (\"id\") DEFERRABLE INITIALLY DEFERRED, \"user_id\" integer NOT NULL REFERENCES \"auth_user\" (\"id\") DEFERRABLE INITIALLY DEFERRED, \"action_time\" datetime NOT NULL)'),\n ('index',\n  'django_admin_log_content_type_id_c4bce8eb',\n  'django_admin_log',\n  27,\n  'CREATE INDEX \"django_admin_log_content_type_id_c4bce8eb\" ON \"django_admin_log\" (\"content_type_id\")'),\n ('index',\n  'django_admin_log_user_id_c564eba6',\n  'django_admin_log',\n  28,\n  'CREATE INDEX \"django_admin_log_user_id_c564eba6\" ON \"django_admin_log\" (\"user_id\")'),\n ('table',\n  'armory_item',\n  'armory_item',\n  29,\n  'CREATE TABLE \"armory_item\" (\"item_id\" integer NOT NULL PRIMARY KEY AUTOINCREMENT, \"name\" varchar(30) NOT NULL, \"value\" integer NOT NULL, \"weight\" integer NOT NULL)'),\n ('table',\n  'armory_weapon',\n  'armory_weapon',\n  31,\n  'CREATE TABLE \"armory_weapon\" (\"item_ptr_id\" integer NOT NULL PRIMARY KEY REFERENCES \"armory_item\" (\"item_id\") DEFERRABLE INITIALLY DEFERRED, \"power\" integer NOT NULL)'),\n ('table',\n  'django_content_type',\n  'django_content_type',\n  5,\n  'CREATE TABLE \"django_content_type\" (\"id\" integer NOT NULL PRIMARY KEY AUTOINCREMENT, \"app_label\" varchar(100) NOT NULL, \"model\" varchar(100) NOT NULL)'),\n ('index',\n  'django_content_type_app_label_model_76bd3d3b_uniq',\n  'django_content_type',\n  4,\n  'CREATE UNIQUE INDEX django_content_type_app_label_model_76bd3d3b_uniq ON \"django_content_type\" (\"app_label\", \"model\")'),\n ('table',\n  'auth_permission',\n  'auth_permission',\n  32,\n  'CREATE TABLE \"auth_permission\" (\"id\" integer NOT NULL PRIMARY KEY AUTOINCREMENT, \"content_type_id\" integer NOT NULL REFERENCES \"django_content_type\" (\"id\") DEFERRABLE INITIALLY DEFERRED, \"codename\" varchar(100) NOT NULL, \"name\" varchar(255) NOT NULL)'),\n ('index',\n  'auth_permission_content_type_id_codename_01ab375a_uniq',\n  'auth_permission',\n  6,\n  'CREATE UNIQUE INDEX auth_permission_content_type_id_codename_01ab375a_uniq ON \"auth_permission\" (\"content_type_id\", \"codename\")'),\n ('index',\n  'auth_permission_content_type_id_2f476e4b',\n  'auth_permission',\n  14,\n  'CREATE INDEX \"auth_permission_content_type_id_2f476e4b\" ON \"auth_permission\" (\"content_type_id\")'),\n ('table',\n  'auth_user',\n  'auth_user',\n  10,\n  'CREATE TABLE \"auth_user\" (\"id\" integer NOT NULL PRIMARY KEY AUTOINCREMENT, \"password\" varchar(128) NOT NULL, \"last_login\" datetime NULL, \"is_superuser\" bool NOT NULL, \"username\" varchar(150) NOT NULL UNIQUE, \"first_name\" varchar(30) NOT NULL, \"email\" varchar(254) NOT NULL, \"is_staff\" bool NOT NULL, \"is_active\" bool NOT NULL, \"date_joined\" datetime NOT NULL, \"last_name\" varchar(150) NOT NULL)'),\n ('index', 'sqlite_autoindex_auth_user_1', 'auth_user', 11, None),\n ('table',\n  'charactercreator_character_inventory',\n  'charactercreator_character_inventory',\n  37,\n  'CREATE TABLE \"charactercreator_character_inventory\" (\"id\" integer NOT NULL PRIMARY KEY AUTOINCREMENT, \"character_id\" integer NOT NULL REFERENCES \"charactercreator_character\" (\"character_id\") DEFERRABLE INITIALLY DEFERRED, \"item_id\" integer NOT NULL REFERENCES \"armory_item\" (\"item_id\") DEFERRABLE INITIALLY DEFERRED)'),\n ('table',\n  'charactercreator_necromancer',\n  'charactercreator_necromancer',\n  38,\n  'CREATE TABLE \"charactercreator_necromancer\" (\"mage_ptr_id\" integer NOT NULL PRIMARY KEY REFERENCES \"charactercreator_mage\" (\"character_ptr_id\") DEFERRABLE INITIALLY DEFERRED, \"talisman_charged\" bool NOT NULL)'),\n ('index',\n  'charactercreator_character_inventory_character_id_item_id_8d6149ec_uniq',\n  'charactercreator_character_inventory',\n  40,\n  'CREATE UNIQUE INDEX charactercreator_character_inventory_character_id_item_id_8d6149ec_uniq ON \"charactercreator_character_inventory\" (\"character_id\", \"item_id\")'),\n ('index',\n  'charactercreator_character_inventory_character_id_007ee169',\n  'charactercreator_character_inventory',\n  41,\n  'CREATE INDEX \"charactercreator_character_inventory_character_id_007ee169\" ON \"charactercreator_character_inventory\" (\"character_id\")'),\n ('index',\n  'charactercreator_character_inventory_item_id_7d42dc74',\n  'charactercreator_character_inventory',\n  42,\n  'CREATE INDEX \"charactercreator_character_inventory_item_id_7d42dc74\" ON \"charactercreator_character_inventory\" (\"item_id\")'),\n ('table',\n  'django_session',\n  'django_session',\n  43,\n  'CREATE TABLE \"django_session\" (\"session_key\" varchar(40) NOT NULL PRIMARY KEY, \"session_data\" text NOT NULL, \"expire_date\" datetime NOT NULL)'),\n ('index', 'sqlite_autoindex_django_session_1', 'django_session', 44, None),\n ('index',\n  'django_session_expire_date_a5c62663',\n  'django_session',\n  45,\n  'CREATE INDEX \"django_session_expire_date_a5c62663\" ON \"django_session\" (\"expire_date\")'),\n ('table',\n  'charactercreator_character',\n  'charactercreator_character',\n  15,\n  'CREATE TABLE \"charactercreator_character\" (\"character_id\" integer NOT NULL PRIMARY KEY AUTOINCREMENT, \"name\" varchar(30) NOT NULL, \"level\" integer NOT NULL, \"exp\" integer NOT NULL, \"hp\" integer NOT NULL, \"strength\" integer NOT NULL, \"intelligence\" integer NOT NULL, \"dexterity\" integer NOT NULL, \"wisdom\" integer NOT NULL)'),\n ('table',\n  'charactercreator_cleric',\n  'charactercreator_cleric',\n  46,\n  'CREATE TABLE \"charactercreator_cleric\" (\"character_ptr_id\" integer NOT NULL PRIMARY KEY REFERENCES \"charactercreator_character\" (\"character_id\") DEFERRABLE INITIALLY DEFERRED, \"using_shield\" bool NOT NULL, \"mana\" integer NOT NULL)'),\n ('table',\n  'charactercreator_fighter',\n  'charactercreator_fighter',\n  33,\n  'CREATE TABLE \"charactercreator_fighter\" (\"character_ptr_id\" integer NOT NULL PRIMARY KEY REFERENCES \"charactercreator_character\" (\"character_id\") DEFERRABLE INITIALLY DEFERRED, \"using_shield\" bool NOT NULL, \"rage\" integer NOT NULL)'),\n ('table',\n  'charactercreator_mage',\n  'charactercreator_mage',\n  35,\n  'CREATE TABLE \"charactercreator_mage\" (\"character_ptr_id\" integer NOT NULL PRIMARY KEY REFERENCES \"charactercreator_character\" (\"character_id\") DEFERRABLE INITIALLY DEFERRED, \"has_pet\" bool NOT NULL, \"mana\" integer NOT NULL)'),\n ('table',\n  'charactercreator_thief',\n  'charactercreator_thief',\n  34,\n  'CREATE TABLE \"charactercreator_thief\" (\"character_ptr_id\" integer NOT NULL PRIMARY KEY REFERENCES \"charactercreator_character\" (\"character_id\") DEFERRABLE INITIALLY DEFERRED, \"is_sneaking\" bool NOT NULL, \"energy\" integer NOT NULL)')]"
     },
     "execution_count": 11,
     "metadata": {},
     "output_type": "execute_result"
    }
   ],
   "source": [
    "q = 'SELECT * from sqlite_master'\n",
    "curs.execute(q).fetchall()\n"
   ],
   "metadata": {
    "collapsed": false,
    "pycharm": {
     "name": "#%%\n"
    }
   }
  },
  {
   "cell_type": "code",
   "execution_count": null,
   "outputs": [],
   "source": [
    "\"\"\"\n",
    "Use sqlite3 to load and write queries to explore the data, and answer the following questions.\n",
    "You should store each query as a string and label each as the indicated variable names.\n",
    "Also, store each of these queries in a seperate file named queries.py and either run these queries in the file\n",
    "or import them into another:\n",
    "\n",
    "TOTAL_CHARACTERS: How many total Characters are there?\n",
    "TOTAL_SUBCLASS: How many of each specific subclass (the necromancer table)?\n",
    "TOTAL_ITEMS: How many total Items?\n",
    "WEAPONS: How many of the Items are weapons?\n",
    "NON_WEAPONS: How many of the items are not weapons?\n",
    "CHARACTER_ITEMS: How many Items does each character have? (Return first 20 rows)\n",
    "CHARACTER_WEAPONS: How many Weapons does each character have? (Return first 20 rows)\n",
    "AVG_CHARACTER_ITEMS: On average, how many Items does each Character have?\n",
    "AVG_CHARACTER_WEAPONS: On average, how many Weapons does each character have?\n",
    "\"\"\""
   ],
   "metadata": {
    "collapsed": false,
    "pycharm": {
     "name": "#%%\n"
    }
   }
  },
  {
   "cell_type": "code",
   "execution_count": 13,
   "outputs": [
    {
     "name": "stdout",
     "output_type": "stream",
     "text": [
      "[(302,)]\n"
     ]
    }
   ],
   "source": [
    "TOTAL_CHARACTERS = 'SELECT COUNT(*) from charactercreator_character'\n",
    "curs.execute(TOTAL_CHARACTERS)\n",
    "print(curs.fetchall())"
   ],
   "metadata": {
    "collapsed": false,
    "pycharm": {
     "name": "#%%\n"
    }
   }
  },
  {
   "cell_type": "code",
   "execution_count": 14,
   "outputs": [
    {
     "name": "stdout",
     "output_type": "stream",
     "text": [
      "[(11,)]\n"
     ]
    }
   ],
   "source": [
    "TOTAL_SUBCLASS = 'SELECT COUNT(*) from charactercreator_necromancer'\n",
    "curs.execute(TOTAL_SUBCLASS)\n",
    "print(curs.fetchall())"
   ],
   "metadata": {
    "collapsed": false,
    "pycharm": {
     "name": "#%%\n"
    }
   }
  },
  {
   "cell_type": "code",
   "execution_count": 15,
   "outputs": [
    {
     "name": "stdout",
     "output_type": "stream",
     "text": [
      "[(174,)]\n"
     ]
    }
   ],
   "source": [
    "TOTAL_ITEMS = 'SELECT COUNT(*) from armory_item'\n",
    "curs.execute(TOTAL_ITEMS)\n",
    "print(curs.fetchall())"
   ],
   "metadata": {
    "collapsed": false,
    "pycharm": {
     "name": "#%%\n"
    }
   }
  },
  {
   "cell_type": "code",
   "execution_count": 16,
   "outputs": [
    {
     "name": "stdout",
     "output_type": "stream",
     "text": [
      "[(37,)]\n"
     ]
    }
   ],
   "source": [
    "WEAPONS = 'SELECT COUNT(*) FROM armory_item, armory_weapon WHERE armory_item.item_id = armory_weapon.item_ptr_id'\n",
    "curs.execute(WEAPONS)\n",
    "print(curs.fetchall())"
   ],
   "metadata": {
    "collapsed": false,
    "pycharm": {
     "name": "#%%\n"
    }
   }
  },
  {
   "cell_type": "code",
   "execution_count": 17,
   "outputs": [
    {
     "name": "stdout",
     "output_type": "stream",
     "text": [
      "[(6401,)]\n"
     ]
    }
   ],
   "source": [
    "NON_WEAPONS = 'SELECT COUNT(*) FROM armory_item, armory_weapon WHERE armory_item.item_id != armory_weapon.item_ptr_id'\n",
    "curs.execute(NON_WEAPONS)\n",
    "print(curs.fetchall())\n"
   ],
   "metadata": {
    "collapsed": false,
    "pycharm": {
     "name": "#%%\n"
    }
   }
  },
  {
   "cell_type": "code",
   "execution_count": 18,
   "outputs": [
    {
     "name": "stdout",
     "output_type": "stream",
     "text": [
      "[(3,), (3,), (2,), (4,), (4,), (1,), (5,), (3,), (4,), (4,), (3,), (3,), (4,), (4,), (4,), (1,), (5,), (5,), (3,), (1,)]\n"
     ]
    }
   ],
   "source": [
    "CHARACTER_ITEMS = 'SELECT COUNT(item_id) FROM charactercreator_character_inventory GROUP BY character_id LIMIT 20'\n",
    "curs.execute(CHARACTER_ITEMS)\n",
    "print(curs.fetchall())"
   ],
   "metadata": {
    "collapsed": false,
    "pycharm": {
     "name": "#%%\n"
    }
   }
  },
  {
   "cell_type": "code",
   "execution_count": 19,
   "outputs": [
    {
     "name": "stdout",
     "output_type": "stream",
     "text": [
      "[(2,), (1,), (1,), (1,), (1,), (1,), (1,), (3,), (2,), (1,), (1,), (1,), (2,), (3,), (2,), (2,), (2,), (1,), (1,), (1,)]\n"
     ]
    }
   ],
   "source": [
    "CHARACTER_WEAPONS = 'SELECT COUNT(item_id) FROM charactercreator_character_inventory, armory_weapon WHERE item_id = armory_weapon.item_ptr_id GROUP BY character_id LIMIT 20'\n",
    "curs.execute(CHARACTER_WEAPONS)\n",
    "print(curs.fetchall())"
   ],
   "metadata": {
    "collapsed": false,
    "pycharm": {
     "name": "#%%\n"
    }
   }
  },
  {
   "cell_type": "code",
   "execution_count": 20,
   "outputs": [
    {
     "name": "stdout",
     "output_type": "stream",
     "text": [
      "[(2.9735099337748343,)]\n"
     ]
    }
   ],
   "source": [
    "AVG_CHARACTER_ITEMS = 'SELECT AVG(count) FROM (SELECT COUNT(item_id) AS count FROM charactercreator_character_inventory GROUP BY character_id)'\n",
    "curs.execute(AVG_CHARACTER_ITEMS)\n",
    "print(curs.fetchall())"
   ],
   "metadata": {
    "collapsed": false,
    "pycharm": {
     "name": "#%%\n"
    }
   }
  },
  {
   "cell_type": "code",
   "execution_count": 21,
   "outputs": [
    {
     "name": "stdout",
     "output_type": "stream",
     "text": [
      "[(1.3096774193548386,)]\n"
     ]
    }
   ],
   "source": [
    "AVG_CHARACTER_WEAPONS = 'SELECT AVG(count) FROM (SELECT COUNT(item_id) as count FROM charactercreator_character_inventory, armory_weapon WHERE item_id = armory_weapon.item_ptr_id GROUP BY character_id)'\n",
    "curs.execute(AVG_CHARACTER_WEAPONS)\n",
    "print(curs.fetchall())"
   ],
   "metadata": {
    "collapsed": false,
    "pycharm": {
     "name": "#%%\n"
    }
   }
  },
  {
   "cell_type": "code",
   "execution_count": 22,
   "outputs": [],
   "source": [
    "## PART 2\n",
    "\"\"\"Using the standard sqlite3 module:\n",
    "\n",
    "Open a connection to a new (blank) database file buddymove_holidayiq.sqlite3\n",
    "Use df.to_sql (documentation) to insert the data into a new table review in the SQLite3 database\n",
    "Then write the following queries (also with sqlite3) to test:\n",
    "\n",
    "Count how many rows you have - it should be 249!\n",
    "How many users who reviewed at least 100 Nature in the category also reviewed at least 100 in the Shopping category?\n",
    "(Stretch) What are the average number of reviews for each category?\n",
    "Your code (to reproduce all above steps) should be saved in buddymove_holidayiq.py.\n",
    "\n",
    "When you submit your files to Canvas you should upload queries.py, buddymove_holidayiq.py, and buddymove_holidayiq.sqlite3.\"\"\""
   ],
   "metadata": {
    "collapsed": false,
    "pycharm": {
     "name": "#%%\n"
    }
   }
  },
  {
   "cell_type": "code",
   "execution_count": null,
   "outputs": [],
   "source": [
    "df = pd.read_csv('../buddymove_holidayiq.csv')\n",
    "df.head()\n",
    "\n",
    "conn.close()\n",
    "curs.close()"
   ],
   "metadata": {
    "collapsed": false,
    "pycharm": {
     "name": "#%%\n"
    }
   }
  },
  {
   "cell_type": "code",
   "execution_count": 30,
   "outputs": [],
   "source": [
    "conn = sqlite3.connect('buddymove_holidayiq.sqlite3')\n",
    "curs = conn.cursor()\n",
    "#df.to_sql('buddymove_holidayiq', con = conn)"
   ],
   "metadata": {
    "collapsed": false,
    "pycharm": {
     "name": "#%%\n"
    }
   }
  },
  {
   "cell_type": "code",
   "execution_count": 31,
   "outputs": [
    {
     "ename": "TypeError",
     "evalue": "'tuple' object is not callable",
     "output_type": "error",
     "traceback": [
      "\u001B[0;31m---------------------------------------------------------------------------\u001B[0m",
      "\u001B[0;31mTypeError\u001B[0m                                 Traceback (most recent call last)",
      "\u001B[0;32m<ipython-input-31-abd7da25efb9>\u001B[0m in \u001B[0;36m<module>\u001B[0;34m\u001B[0m\n\u001B[1;32m      1\u001B[0m \u001B[0mtest_q\u001B[0m \u001B[0;34m=\u001B[0m \u001B[0;34m'SELECT * FROM buddymove_holidayiq'\u001B[0m\u001B[0;34m\u001B[0m\u001B[0;34m\u001B[0m\u001B[0m\n\u001B[1;32m      2\u001B[0m \u001B[0mresults\u001B[0m \u001B[0;34m=\u001B[0m \u001B[0mcurs\u001B[0m\u001B[0;34m.\u001B[0m\u001B[0mexecute\u001B[0m\u001B[0;34m(\u001B[0m\u001B[0mtest_q\u001B[0m\u001B[0;34m)\u001B[0m\u001B[0;34m.\u001B[0m\u001B[0mfetchall\u001B[0m\u001B[0;34m(\u001B[0m\u001B[0;34m)\u001B[0m\u001B[0;34m\u001B[0m\u001B[0;34m\u001B[0m\u001B[0m\n\u001B[0;32m----> 3\u001B[0;31m \u001B[0mcurs\u001B[0m\u001B[0;34m.\u001B[0m\u001B[0mdescription\u001B[0m\u001B[0;34m(\u001B[0m\u001B[0;34m)\u001B[0m\u001B[0;34m\u001B[0m\u001B[0;34m\u001B[0m\u001B[0m\n\u001B[0m\u001B[1;32m      4\u001B[0m \u001B[0;31m#columns = [col[0] for col in curs.description()]\u001B[0m\u001B[0;34m\u001B[0m\u001B[0;34m\u001B[0m\u001B[0;34m\u001B[0m\u001B[0m\n\u001B[1;32m      5\u001B[0m \u001B[0mdata\u001B[0m \u001B[0;34m=\u001B[0m \u001B[0mpd\u001B[0m\u001B[0;34m.\u001B[0m\u001B[0mDataFrame\u001B[0m\u001B[0;34m(\u001B[0m\u001B[0mresults\u001B[0m\u001B[0;34m)\u001B[0m\u001B[0;34m\u001B[0m\u001B[0;34m\u001B[0m\u001B[0m\n",
      "\u001B[0;31mTypeError\u001B[0m: 'tuple' object is not callable"
     ]
    }
   ],
   "source": [
    "test_q = 'SELECT * FROM buddymove_holidayiq'\n",
    "results = curs.execute(test_q).fetchall()\n",
    "#columns = [col[0] for col in curs.description()]\n",
    "data = pd.DataFrame(results)\n",
    "data.head()"
   ],
   "metadata": {
    "collapsed": false,
    "pycharm": {
     "name": "#%%\n"
    }
   }
  },
  {
   "cell_type": "code",
   "execution_count": 28,
   "outputs": [
    {
     "name": "stdout",
     "output_type": "stream",
     "text": [
      "[(249,)]\n"
     ]
    }
   ],
   "source": [
    "# Count how many rows you have - it should be 249!\n",
    "count = 'SELECT COUNT(*) FROM buddymove_holidayiq'\n",
    "print(curs.execute(count).fetchall())\n"
   ],
   "metadata": {
    "collapsed": false,
    "pycharm": {
     "name": "#%%\n"
    }
   }
  },
  {
   "cell_type": "code",
   "execution_count": 32,
   "outputs": [
    {
     "name": "stdout",
     "output_type": "stream",
     "text": [
      "[(78,)]\n"
     ]
    }
   ],
   "source": [
    "# How many users who reviewed at least 100 Nature in the category also reviewed at least 100\n",
    "# in the Shopping category?\n",
    "reviews = 'SELECT COUNT(*) FROM buddymove_holidayiq WHERE Nature > 100 AND Shopping > 100'\n",
    "print(curs.execute(reviews).fetchall())\n",
    "\n"
   ],
   "metadata": {
    "collapsed": false,
    "pycharm": {
     "name": "#%%\n"
    }
   }
  },
  {
   "cell_type": "code",
   "execution_count": 39,
   "outputs": [
    {
     "name": "stdout",
     "output_type": "stream",
     "text": [
      "[(11.987951807228916, 109.77911646586345, 124.51807228915662, 116.37751004016064, 112.63855421686748, 120.40160642570281)]\n"
     ]
    }
   ],
   "source": [
    "# What are the average number of reviews for each category?\n",
    "avg = 'SELECT AVG(Sports), AVG(Religious), AVG(Nature), AVG(Theatre), AVG(Shopping), AVG(Picnic) FROM buddymove_holidayiq'\n",
    "print(curs.execute(avg).fetchall())"
   ],
   "metadata": {
    "collapsed": false,
    "pycharm": {
     "name": "#%%\n"
    }
   }
  },
  {
   "cell_type": "code",
   "execution_count": 1,
   "outputs": [
    {
     "ename": "NameError",
     "evalue": "name 'conn' is not defined",
     "output_type": "error",
     "traceback": [
      "\u001B[0;31m---------------------------------------------------------------------------\u001B[0m",
      "\u001B[0;31mNameError\u001B[0m                                 Traceback (most recent call last)",
      "\u001B[0;32m<ipython-input-1-90e7792261d9>\u001B[0m in \u001B[0;36m<module>\u001B[0;34m\u001B[0m\n\u001B[0;32m----> 1\u001B[0;31m \u001B[0mconn\u001B[0m\u001B[0;34m.\u001B[0m\u001B[0mclose\u001B[0m\u001B[0;34m(\u001B[0m\u001B[0;34m)\u001B[0m\u001B[0;34m\u001B[0m\u001B[0;34m\u001B[0m\u001B[0m\n\u001B[0m\u001B[1;32m      2\u001B[0m \u001B[0;34m\u001B[0m\u001B[0m\n",
      "\u001B[0;31mNameError\u001B[0m: name 'conn' is not defined"
     ]
    }
   ],
   "source": [
    "titanic = pd.read_csv()\n"
   ],
   "metadata": {
    "collapsed": false,
    "pycharm": {
     "name": "#%%\n"
    }
   }
  }
 ],
 "metadata": {
  "kernelspec": {
   "display_name": "Python 3",
   "language": "python",
   "name": "python3"
  },
  "language_info": {
   "codemirror_mode": {
    "name": "ipython",
    "version": 2
   },
   "file_extension": ".py",
   "mimetype": "text/x-python",
   "name": "python",
   "nbconvert_exporter": "python",
   "pygments_lexer": "ipython2",
   "version": "2.7.6"
  }
 },
 "nbformat": 4,
 "nbformat_minor": 0
}